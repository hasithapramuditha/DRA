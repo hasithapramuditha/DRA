{
 "cells": [
  {
   "cell_type": "markdown",
   "id": "912eecb5-a358-4abc-bb41-146a5efd4ebe",
   "metadata": {},
   "source": [
    "🔧 Importing NumPy"
   ]
  },
  {
   "cell_type": "code",
   "execution_count": null,
   "id": "c08a6469-3fff-4e6d-9752-7972298457a6",
   "metadata": {},
   "outputs": [],
   "source": [
    "import numpy as np"
   ]
  },
  {
   "cell_type": "markdown",
   "id": "7ff3dbfb-d094-41c4-ac57-718989ef41a2",
   "metadata": {},
   "source": [
    "🔹 NumPy Arrays"
   ]
  },
  {
   "cell_type": "markdown",
   "id": "c73281f2-1f23-4e1f-bcbb-4687477bb68c",
   "metadata": {},
   "source": [
    "1. Creating Arrays"
   ]
  },
  {
   "cell_type": "code",
   "execution_count": null,
   "id": "b3decb0b-5a14-4719-860b-37d9d8b8ebe5",
   "metadata": {},
   "outputs": [],
   "source": [
    "a = np.array([1, 2, 3])          # 1D array\n",
    "b = np.array([[1, 2], [3, 4]])   # 2D array"
   ]
  },
  {
   "cell_type": "code",
   "execution_count": null,
   "id": "6ae4be33-e70e-4a0e-a755-c78819453f92",
   "metadata": {},
   "outputs": [],
   "source": [
    "np.zeros((2, 3))      # 2x3 array of zeros\n",
    "np.ones((2, 3))       # 2x3 array of ones\n",
    "np.eye(3)             # 3x3 identity matrix\n",
    "np.arange(0, 10, 2)   # [0, 2, 4, 6, 8]\n",
    "np.linspace(0, 1, 5)  # [0. , 0.25, 0.5 , 0.75, 1. ]"
   ]
  },
  {
   "cell_type": "markdown",
   "id": "a19f6f86-7451-4b1f-b5cf-6b60ef82950c",
   "metadata": {},
   "source": [
    "🔹 Basic Operations"
   ]
  },
  {
   "cell_type": "code",
   "execution_count": null,
   "id": "8194fe44-f955-4f64-902c-d7f4ee1687b2",
   "metadata": {},
   "outputs": [],
   "source": [
    "a = np.array([1, 2, 3])\n",
    "b = np.array([4, 5, 6])\n",
    "\n",
    "a + b       # [5 7 9]\n",
    "a * b       # [4 10 18]\n",
    "a ** 2      # [1 4 9]"
   ]
  },
  {
   "cell_type": "markdown",
   "id": "1d93fdc1-2cd2-4fa5-8572-8964a1c98b0d",
   "metadata": {},
   "source": [
    "🔹 Array Attributes"
   ]
  },
  {
   "cell_type": "code",
   "execution_count": null,
   "id": "ece8bafc-fe52-48f8-afae-4cec1e357b82",
   "metadata": {},
   "outputs": [],
   "source": [
    "a.shape     # returns dimensions\n",
    "a.ndim      # number of dimensions\n",
    "a.size      # total number of elements\n",
    "a.dtype     # data type of array elements"
   ]
  },
  {
   "cell_type": "markdown",
   "id": "34d0d27e-355e-44c4-8db8-f6c71f28b404",
   "metadata": {},
   "source": [
    "🔹 Indexing and Slicing"
   ]
  },
  {
   "cell_type": "code",
   "execution_count": null,
   "id": "5199aaea-0fa9-4f5e-857d-7fa9bacca3c3",
   "metadata": {},
   "outputs": [],
   "source": [
    "a = np.array([[1, 2, 3], [4, 5, 6]])\n",
    "\n",
    "a[0, 1]     # 2\n",
    "a[:, 1]     # column 1: [2 5]\n",
    "a[1, :]     # row 1: [4 5 6]\n"
   ]
  },
  {
   "cell_type": "markdown",
   "id": "4bbbda99-78b1-4038-8824-309a799f0d96",
   "metadata": {},
   "source": [
    "🔹 Useful Functions"
   ]
  },
  {
   "cell_type": "code",
   "execution_count": null,
   "id": "f483a154-1c33-414d-b134-ce8ea9d8e612",
   "metadata": {},
   "outputs": [],
   "source": [
    "np.mean(a)\n",
    "np.sum(a)\n",
    "np.std(a)\n",
    "np.max(a)\n",
    "np.min(a)\n"
   ]
  },
  {
   "cell_type": "code",
   "execution_count": null,
   "id": "b927b5ca-d75a-487d-892f-be14d1c384af",
   "metadata": {},
   "outputs": [],
   "source": []
  }
 ],
 "metadata": {
  "kernelspec": {
   "display_name": "Python [conda env:base] *",
   "language": "python",
   "name": "conda-base-py"
  },
  "language_info": {
   "codemirror_mode": {
    "name": "ipython",
    "version": 3
   },
   "file_extension": ".py",
   "mimetype": "text/x-python",
   "name": "python",
   "nbconvert_exporter": "python",
   "pygments_lexer": "ipython3",
   "version": "3.12.7"
  }
 },
 "nbformat": 4,
 "nbformat_minor": 5
}
