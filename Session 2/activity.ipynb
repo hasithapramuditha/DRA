{
 "cells": [
  {
   "cell_type": "code",
   "execution_count": 17,
   "id": "fa92a4cf-365b-4722-af05-2ecef4c6459e",
   "metadata": {},
   "outputs": [],
   "source": [
    "import pandas as pd\n",
    "\n",
    "students = pd.read_csv(\"students.csv\")"
   ]
  },
  {
   "cell_type": "code",
   "execution_count": 19,
   "id": "0eef064f-b7df-4558-bc60-e6e10e873e79",
   "metadata": {},
   "outputs": [
    {
     "name": "stdout",
     "output_type": "stream",
     "text": [
      "First 3 rows:\n",
      "    Name  Age  Math  English  Science\n",
      "0  Alice   16    85     78.0       92\n",
      "1    Bob   17    79     74.0       88\n",
      "2  Carol   16    91     90.0       95\n",
      "\n",
      "Basic info:\n",
      "<class 'pandas.core.frame.DataFrame'>\n",
      "RangeIndex: 5 entries, 0 to 4\n",
      "Data columns (total 5 columns):\n",
      " #   Column   Non-Null Count  Dtype  \n",
      "---  ------   --------------  -----  \n",
      " 0   Name     5 non-null      object \n",
      " 1   Age      5 non-null      int64  \n",
      " 2   Math     5 non-null      int64  \n",
      " 3   English  4 non-null      float64\n",
      " 4   Science  5 non-null      int64  \n",
      "dtypes: float64(1), int64(3), object(1)\n",
      "memory usage: 332.0+ bytes\n",
      "None\n"
     ]
    }
   ],
   "source": [
    "print(\"First 3 rows:\")\n",
    "print(students.head(3))\n",
    "print(\"\\nBasic info:\")\n",
    "print(students.info())"
   ]
  },
  {
   "cell_type": "code",
   "execution_count": null,
   "id": "3d774725-2ed9-4698-b307-f119ddaa7ff4",
   "metadata": {},
   "outputs": [],
   "source": []
  }
 ],
 "metadata": {
  "kernelspec": {
   "display_name": "Python [conda env:base] *",
   "language": "python",
   "name": "conda-base-py"
  },
  "language_info": {
   "codemirror_mode": {
    "name": "ipython",
    "version": 3
   },
   "file_extension": ".py",
   "mimetype": "text/x-python",
   "name": "python",
   "nbconvert_exporter": "python",
   "pygments_lexer": "ipython3",
   "version": "3.12.7"
  }
 },
 "nbformat": 4,
 "nbformat_minor": 5
}
