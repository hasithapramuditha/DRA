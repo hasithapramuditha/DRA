{
 "cells": [
  {
   "cell_type": "code",
   "execution_count": 7,
   "id": "100d2cb6-6053-49f4-a25d-66228934db9f",
   "metadata": {},
   "outputs": [],
   "source": [
    "import pandas as pd"
   ]
  },
  {
   "cell_type": "code",
   "execution_count": 8,
   "id": "6bbc1a85-e60c-4412-a02e-0a92562e8fcd",
   "metadata": {},
   "outputs": [
    {
     "name": "stdout",
     "output_type": "stream",
     "text": [
      "Task 1: First 5 rows of the dataset:\n",
      "         Book_Title  Price Quantity_Sold Category\n",
      "0     Mystery Novel  29.99            10  Mystery\n",
      "1  Sci-Fi Adventure  35.50             8   Sci-Fi\n",
      "2     Mystery Novel  29.99            10  Mystery\n",
      "3      Romance Book    NaN             5  Romance\n",
      "4      Fantasy Epic  45.00           abc  Fantasy\n",
      "\n",
      "Task 1: DataFrame info:\n",
      "<class 'pandas.core.frame.DataFrame'>\n",
      "RangeIndex: 7 entries, 0 to 6\n",
      "Data columns (total 4 columns):\n",
      " #   Column         Non-Null Count  Dtype  \n",
      "---  ------         --------------  -----  \n",
      " 0   Book_Title     7 non-null      object \n",
      " 1   Price          6 non-null      float64\n",
      " 2   Quantity_Sold  6 non-null      object \n",
      " 3   Category       7 non-null      object \n",
      "dtypes: float64(1), object(3)\n",
      "memory usage: 356.0+ bytes\n",
      "None\n",
      "\n",
      "Task 2: Missing values in each column:\n",
      "Book_Title       0\n",
      "Price            1\n",
      "Quantity_Sold    1\n",
      "Category         0\n",
      "dtype: int64\n"
     ]
    }
   ],
   "source": [
    "#Task 1: Load and inspect data\n",
    "\n",
    "df = pd.read_csv('bookstore_sales.csv') \n",
    "print(\"Task 1: First 5 rows of the dataset:\") \n",
    "print(df.head()) \n",
    "print(\"\\nTask 1: DataFrame info:\") \n",
    "print(df.info())\n",
    "\n",
    "#Task 2: Check for missing values\n",
    "\n",
    "print(\"\\nTask 2: Missing values in each column:\") \n",
    "print(df.isnull().sum())"
   ]
  },
  {
   "cell_type": "code",
   "execution_count": 9,
   "id": "19db9040-214a-44df-ad57-9c1fb9456e19",
   "metadata": {},
   "outputs": [
    {
     "name": "stdout",
     "output_type": "stream",
     "text": [
      "\n",
      "Task 3: DataFrame after filling missing Price values:\n",
      "         Book_Title      Price Quantity_Sold Category\n",
      "0     Mystery Novel  29.990000            10  Mystery\n",
      "1  Sci-Fi Adventure  35.500000             8   Sci-Fi\n",
      "2     Mystery Novel  29.990000            10  Mystery\n",
      "3      Romance Book  33.496667             5  Romance\n",
      "4      Fantasy Epic  45.000000           abc  Fantasy\n",
      "5      History Book  25.000000            12  History\n",
      "6  Sci-Fi Adventure  35.500000           NaN   Sci-Fi\n",
      "\n",
      "Task 4: DataFrame after removing rows with missing Quantity_Sold:\n",
      "         Book_Title      Price Quantity_Sold Category\n",
      "0     Mystery Novel  29.990000            10  Mystery\n",
      "1  Sci-Fi Adventure  35.500000             8   Sci-Fi\n",
      "2     Mystery Novel  29.990000            10  Mystery\n",
      "3      Romance Book  33.496667             5  Romance\n",
      "4      Fantasy Epic  45.000000           abc  Fantasy\n",
      "5      History Book  25.000000            12  History\n"
     ]
    }
   ],
   "source": [
    "#Task 3: Handle missing values in Price\n",
    "\n",
    "mean_price = df['Price'].mean() \n",
    "df['Price'] = df['Price'].fillna(mean_price) \n",
    "print(\"\\nTask 3: DataFrame after filling missing Price values:\") \n",
    "print(df)\n",
    "\n",
    "#Task 4: Handle missing values in Quantity_Sold\n",
    "\n",
    "df = df.dropna(subset=['Quantity_Sold']) \n",
    "print(\"\\nTask 4: DataFrame after removing rows with missing Quantity_Sold:\") \n",
    "print(df)"
   ]
  },
  {
   "cell_type": "code",
   "execution_count": 10,
   "id": "d572028b-76db-4c00-ae95-25e4d289ebea",
   "metadata": {},
   "outputs": [
    {
     "name": "stdout",
     "output_type": "stream",
     "text": [
      "\n",
      "Task 5: DataFrame after removing duplicates:\n",
      "         Book_Title      Price Quantity_Sold Category\n",
      "0     Mystery Novel  29.990000            10  Mystery\n",
      "1  Sci-Fi Adventure  35.500000             8   Sci-Fi\n",
      "3      Romance Book  33.496667             5  Romance\n",
      "4      Fantasy Epic  45.000000           abc  Fantasy\n",
      "5      History Book  25.000000            12  History\n",
      "\n",
      "Task 6: DataFrame after fixing Quantity_Sold format:\n",
      "         Book_Title      Price  Quantity_Sold Category\n",
      "0     Mystery Novel  29.990000           10.0  Mystery\n",
      "1  Sci-Fi Adventure  35.500000            8.0   Sci-Fi\n",
      "3      Romance Book  33.496667            5.0  Romance\n",
      "5      History Book  25.000000           12.0  History\n",
      "\n",
      "Task 6: Quantity_Sold data type: float64\n"
     ]
    }
   ],
   "source": [
    "#Task 5: Remove duplicate rows\n",
    "\n",
    "df = df.drop_duplicates() \n",
    "print(\"\\nTask 5: DataFrame after removing duplicates:\") \n",
    "print(df)\n",
    "\n",
    "#Task 6: Fix wrong format in Quantity_Sold\n",
    "\n",
    "df['Quantity_Sold'] = pd.to_numeric(df['Quantity_Sold'], errors='coerce') \n",
    "df = df.dropna(subset=['Quantity_Sold']) \n",
    "print(\"\\nTask 6: DataFrame after fixing Quantity_Sold format:\") \n",
    "print(df) \n",
    "print(\"\\nTask 6: Quantity_Sold data type:\", df['Quantity_Sold'].dtype)"
   ]
  },
  {
   "cell_type": "code",
   "execution_count": 11,
   "id": "bf08c06c-7c2b-4439-af32-3ea5fa565ce9",
   "metadata": {},
   "outputs": [
    {
     "name": "stdout",
     "output_type": "stream",
     "text": [
      "\n",
      "Task 7: DataFrame sorted by Price (highest to lowest):\n",
      "         Book_Title      Price  Quantity_Sold Category\n",
      "1  Sci-Fi Adventure  35.500000            8.0   Sci-Fi\n",
      "3      Romance Book  33.496667            5.0  Romance\n",
      "0     Mystery Novel  29.990000           10.0  Mystery\n",
      "5      History Book  25.000000           12.0  History\n",
      "\n",
      "Task 8: Books in Mystery or Sci-Fi categories:\n",
      "         Book_Title  Price  Quantity_Sold Category\n",
      "0     Mystery Novel  29.99           10.0  Mystery\n",
      "1  Sci-Fi Adventure  35.50            8.0   Sci-Fi\n"
     ]
    }
   ],
   "source": [
    "#Task 7: Sort the data\n",
    "\n",
    "df_sorted = df.sort_values('Price', ascending=False) \n",
    "print(\"\\nTask 7: DataFrame sorted by Price (highest to lowest):\") \n",
    "print(df_sorted)\n",
    "\n",
    "#Task 8: Filter the data\n",
    "\n",
    "df_filtered = df[df['Category'].isin(['Mystery', 'Sci-Fi'])] \n",
    "print(\"\\nTask 8: Books in Mystery or Sci-Fi categories:\") \n",
    "print(df_filtered)"
   ]
  },
  {
   "cell_type": "code",
   "execution_count": 12,
   "id": "3b54f414-d681-424f-a507-c8f1563eda0b",
   "metadata": {},
   "outputs": [
    {
     "name": "stdout",
     "output_type": "stream",
     "text": [
      "\n",
      "Task 9: Average Price: 30.996666666666663\n",
      "Task 9: Maximum Quantity Sold: 12.0\n",
      "\n",
      "Task 10: Final DataFrame with Total_Revenue column:\n",
      "         Book_Title      Price  Quantity_Sold Category  Total_Revenue\n",
      "0     Mystery Novel  29.990000           10.0  Mystery     299.900000\n",
      "1  Sci-Fi Adventure  35.500000            8.0   Sci-Fi     284.000000\n",
      "3      Romance Book  33.496667            5.0  Romance     167.483333\n",
      "5      History Book  25.000000           12.0  History     300.000000\n"
     ]
    }
   ],
   "source": [
    "#Task 9: Calculate basic statistics\n",
    "\n",
    "avg_price = df['Price'].mean() \n",
    "max_quantity = df['Quantity_Sold'].max() \n",
    "print(\"\\nTask 9: Average Price:\", avg_price) \n",
    "print(\"Task 9: Maximum Quantity Sold:\", max_quantity)\n",
    "\n",
    "#Task 10: Create a new column\n",
    "\n",
    "df['Total_Revenue'] = df['Price'] * df['Quantity_Sold'] \n",
    "print(\"\\nTask 10: Final DataFrame with Total_Revenue column:\") \n",
    "print(df)"
   ]
  }
 ],
 "metadata": {
  "kernelspec": {
   "display_name": "Python [conda env:base] *",
   "language": "python",
   "name": "conda-base-py"
  },
  "language_info": {
   "codemirror_mode": {
    "name": "ipython",
    "version": 3
   },
   "file_extension": ".py",
   "mimetype": "text/x-python",
   "name": "python",
   "nbconvert_exporter": "python",
   "pygments_lexer": "ipython3",
   "version": "3.12.7"
  }
 },
 "nbformat": 4,
 "nbformat_minor": 5
}
