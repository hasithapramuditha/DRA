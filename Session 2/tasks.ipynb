{
 "cells": [
  {
   "cell_type": "code",
   "execution_count": 12,
   "id": "7aa7308c-216a-4dd1-b78d-1a90d2d3cbf0",
   "metadata": {},
   "outputs": [],
   "source": [
    "# 1. Load the data from movies.csv\n",
    "import pandas as pd\n",
    "df = pd.read_csv('movies.csv')"
   ]
  },
  {
   "cell_type": "code",
   "execution_count": 13,
   "id": "0b2abf93-fe7f-45b5-b334-21a85ce6ba0d",
   "metadata": {},
   "outputs": [
    {
     "name": "stdout",
     "output_type": "stream",
     "text": [
      "           Title      Genre  Year  Rating  Duration\n",
      "0      Inception     Sci-Fi  2010     8.8       148\n",
      "1  The Lion King  Animation  1994     8.5        88\n",
      "2        Titanic    Romance  1997     7.8       195\n",
      "       Title      Genre  Year  Rating  Duration\n",
      "7      Joker      Drama  2019     8.5       122\n",
      "8  Frozen II  Animation  2019     6.8       103\n"
     ]
    }
   ],
   "source": [
    "# 2. Get a quick look of the first 3 rows and last 2 rows\n",
    "print(df.head(3))\n",
    "print(df.tail(2))"
   ]
  },
  {
   "cell_type": "code",
   "execution_count": 14,
   "id": "d5e6576b-28d7-4cc8-a871-57353104d4e8",
   "metadata": {},
   "outputs": [
    {
     "name": "stdout",
     "output_type": "stream",
     "text": [
      "<class 'pandas.core.frame.DataFrame'>\n",
      "RangeIndex: 9 entries, 0 to 8\n",
      "Data columns (total 5 columns):\n",
      " #   Column    Non-Null Count  Dtype  \n",
      "---  ------    --------------  -----  \n",
      " 0   Title     9 non-null      object \n",
      " 1   Genre     9 non-null      object \n",
      " 2   Year      9 non-null      int64  \n",
      " 3   Rating    9 non-null      float64\n",
      " 4   Duration  9 non-null      int64  \n",
      "dtypes: float64(1), int64(2), object(2)\n",
      "memory usage: 492.0+ bytes\n",
      "None\n"
     ]
    }
   ],
   "source": [
    "# 3. Inspect the structure\n",
    "print(df.info())"
   ]
  },
  {
   "cell_type": "code",
   "execution_count": 15,
   "id": "3a10c171-9cfc-4dda-9fd0-7d9abb1063f9",
   "metadata": {},
   "outputs": [
    {
     "name": "stdout",
     "output_type": "stream",
     "text": [
      "9\n"
     ]
    }
   ],
   "source": [
    "# 4. Number of rows\n",
    "print(df.shape[0])"
   ]
  },
  {
   "cell_type": "code",
   "execution_count": 16,
   "id": "3b4eb656-6fe2-45fd-9509-1143c038e608",
   "metadata": {},
   "outputs": [
    {
     "name": "stdout",
     "output_type": "stream",
     "text": [
      "5\n"
     ]
    }
   ],
   "source": [
    "# 5. Number of columns\n",
    "print(df.shape[1])"
   ]
  },
  {
   "cell_type": "code",
   "execution_count": 17,
   "id": "e81827c8-0c8d-472e-9806-d55e76368c20",
   "metadata": {},
   "outputs": [
    {
     "name": "stdout",
     "output_type": "stream",
     "text": [
      "Index(['Title', 'Genre', 'Year', 'Rating', 'Duration'], dtype='object')\n"
     ]
    }
   ],
   "source": [
    "# 6. Column names\n",
    "print(df.columns)"
   ]
  },
  {
   "cell_type": "code",
   "execution_count": 18,
   "id": "a432e0c4-5224-4e3a-aa38-2892a0b3069e",
   "metadata": {},
   "outputs": [
    {
     "name": "stdout",
     "output_type": "stream",
     "text": [
      "              Year    Rating    Duration\n",
      "count     9.000000  9.000000    9.000000\n",
      "mean   2007.000000  8.355556  145.888889\n",
      "std      16.309506  0.689404   37.055514\n",
      "min    1972.000000  6.800000   88.000000\n",
      "25%    1997.000000  8.400000  122.000000\n",
      "50%    2014.000000  8.500000  148.000000\n",
      "75%    2019.000000  8.600000  175.000000\n",
      "max    2019.000000  9.200000  195.000000\n"
     ]
    }
   ],
   "source": [
    "# 7. Statistical summary of numeric columns\n",
    "print(df.describe())"
   ]
  },
  {
   "cell_type": "code",
   "execution_count": 19,
   "id": "d24b19fe-c403-4b3e-bef2-52aafee38262",
   "metadata": {},
   "outputs": [
    {
     "name": "stdout",
     "output_type": "stream",
     "text": [
      "       Genre\n",
      "0     Sci-Fi\n",
      "1  Animation\n",
      "2    Romance\n",
      "3   Thriller\n",
      "4     Action\n"
     ]
    }
   ],
   "source": [
    "# 8. Select “Genre” column and assign it to DataFrame named genre\n",
    "genre = df[['Genre']]\n",
    "print(genre.head())"
   ]
  },
  {
   "cell_type": "code",
   "execution_count": 20,
   "id": "cb322903-f201-4c42-b948-42e336e70b60",
   "metadata": {},
   "outputs": [
    {
     "name": "stdout",
     "output_type": "stream",
     "text": [
      "   Year  Rating\n",
      "0  2010     8.8\n",
      "1  1994     8.5\n",
      "2  1997     7.8\n",
      "3  2019     8.6\n",
      "4  2019     8.4\n"
     ]
    }
   ],
   "source": [
    "# 9. Select “Year” and “Rating” columns and assign them to DataFrame df1\n",
    "df1 = df[['Year', 'Rating']]\n",
    "print(df1.head())"
   ]
  },
  {
   "cell_type": "code",
   "execution_count": 21,
   "id": "82764846-b215-444c-be94-fa3f40ba6537",
   "metadata": {},
   "outputs": [
    {
     "name": "stdout",
     "output_type": "stream",
     "text": [
      "               Title  RatingPerMinute\n",
      "0          Inception         0.059459\n",
      "1      The Lion King         0.096591\n",
      "2            Titanic         0.040000\n",
      "3           Parasite         0.065152\n",
      "4  Avengers: Endgame         0.046409\n",
      "5       Interstellar         0.050888\n",
      "6      The Godfather         0.052571\n",
      "7              Joker         0.069672\n",
      "8          Frozen II         0.066019\n"
     ]
    }
   ],
   "source": [
    "# 10. Calculate Rating per minute and add as a new column\n",
    "df['RatingPerMinute'] = df['Rating'] / df['Duration']\n",
    "print(df[['Title', 'RatingPerMinute']])"
   ]
  },
  {
   "cell_type": "code",
   "execution_count": null,
   "id": "0fb929ee-8ae2-414c-92ed-68d733bce717",
   "metadata": {},
   "outputs": [],
   "source": []
  },
  {
   "cell_type": "code",
   "execution_count": null,
   "id": "5abd5f73-7d40-4c6c-8a9e-6545cd71d09a",
   "metadata": {},
   "outputs": [],
   "source": []
  },
  {
   "cell_type": "code",
   "execution_count": null,
   "id": "8e98c5ca-d871-458b-9432-b3e34ca9d37d",
   "metadata": {},
   "outputs": [],
   "source": []
  }
 ],
 "metadata": {
  "kernelspec": {
   "display_name": "Python [conda env:base] *",
   "language": "python",
   "name": "conda-base-py"
  },
  "language_info": {
   "codemirror_mode": {
    "name": "ipython",
    "version": 3
   },
   "file_extension": ".py",
   "mimetype": "text/x-python",
   "name": "python",
   "nbconvert_exporter": "python",
   "pygments_lexer": "ipython3",
   "version": "3.12.7"
  }
 },
 "nbformat": 4,
 "nbformat_minor": 5
}
